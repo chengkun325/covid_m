{
 "cells": [
  {
   "cell_type": "code",
   "execution_count": 2,
   "metadata": {},
   "outputs": [],
   "source": [
    "import os\n",
    "import numpy as np\n",
    "import pandas as pd\n",
    "import SimpleITK as sitk\n",
    "import matplotlib.pyplot as plt"
   ]
  },
  {
   "cell_type": "code",
   "execution_count": 3,
   "metadata": {},
   "outputs": [],
   "source": [
    "def plot_hists(images1, images2=None):\n",
    "    plt.hist(images1.ravel(), bins=100, density=True, color='b', alpha=1 if images2 is None else 0.5)\n",
    "    if images2 is not None:\n",
    "        plt.hist(images2.ravel(), bins=100, density=True, alpha=0.5, color='orange')\n",
    "    plt.show()"
   ]
  },
  {
   "cell_type": "code",
   "execution_count": 4,
   "metadata": {},
   "outputs": [],
   "source": [
    "def window_transform(ct_array, windowWidth, windowCenter, normal=False):\n",
    "\t\"\"\"\n",
    "    return: trucated image according to window center and window width\n",
    "    and normalized to [0,1]\n",
    "    \"\"\"\n",
    "\tminWindow = float(windowCenter) - 0.5*float(windowWidth)\n",
    "\t# print(minWindow)\n",
    "\tnewimg = (ct_array - minWindow) / float(windowWidth)\n",
    "\tnewimg[newimg < 0] = 0\n",
    "\tnewimg[newimg > 1] = 1\n",
    "\tif not normal:\n",
    "\t\tnewimg = (newimg * 255).astype('uint8')\n",
    "\treturn newimg"
   ]
  },
  {
   "cell_type": "code",
   "execution_count": 21,
   "metadata": {},
   "outputs": [],
   "source": [
    "# 肺窗调整到[-1250, 250]\n",
    "\n",
    "data_path = \"/zhangtong/org_dataset/MosMed/\"\n",
    "ct_path = os.path.join(data_path, \"ct_scans\")\n",
    "infection_path = os.path.join(data_path, \"infection_masks\")"
   ]
  },
  {
   "cell_type": "code",
   "execution_count": 22,
   "metadata": {},
   "outputs": [
    {
     "name": "stdout",
     "output_type": "stream",
     "text": [
      "/zhangtong/dealed_dataset/mosmed_m/infection_mask/\n",
      "start process ['study_0295', 'nii', 'gz']\n",
      "/zhangtong/dealed_dataset/mosmed_m/infection_mask/\n",
      "start process ['study_0297', 'nii', 'gz']\n",
      "/zhangtong/dealed_dataset/mosmed_m/infection_mask/\n",
      "start process ['study_0280', 'nii', 'gz']\n",
      "/zhangtong/dealed_dataset/mosmed_m/infection_mask/\n",
      "start process ['study_0272', 'nii', 'gz']\n",
      "/zhangtong/dealed_dataset/mosmed_m/infection_mask/\n",
      "start process ['study_0265', 'nii', 'gz']\n",
      "/zhangtong/dealed_dataset/mosmed_m/infection_mask/\n",
      "start process ['study_0271', 'nii', 'gz']\n",
      "/zhangtong/dealed_dataset/mosmed_m/infection_mask/\n",
      "start process ['study_0281', 'nii', 'gz']\n",
      "/zhangtong/dealed_dataset/mosmed_m/infection_mask/\n",
      "start process ['study_0303', 'nii', 'gz']\n",
      "/zhangtong/dealed_dataset/mosmed_m/infection_mask/\n",
      "start process ['study_0257', 'nii', 'gz']\n",
      "/zhangtong/dealed_dataset/mosmed_m/infection_mask/\n",
      "start process ['study_0282', 'nii', 'gz']\n",
      "/zhangtong/dealed_dataset/mosmed_m/infection_mask/\n",
      "start process ['study_0263', 'nii', 'gz']\n",
      "/zhangtong/dealed_dataset/mosmed_m/infection_mask/\n",
      "start process ['study_0273', 'nii', 'gz']\n",
      "/zhangtong/dealed_dataset/mosmed_m/infection_mask/\n",
      "start process ['study_0267', 'nii', 'gz']\n",
      "/zhangtong/dealed_dataset/mosmed_m/infection_mask/\n",
      "start process ['study_0275', 'nii', 'gz']\n",
      "/zhangtong/dealed_dataset/mosmed_m/infection_mask/\n",
      "start process ['study_0262', 'nii', 'gz']\n",
      "/zhangtong/dealed_dataset/mosmed_m/infection_mask/\n",
      "start process ['study_0264', 'nii', 'gz']\n",
      "/zhangtong/dealed_dataset/mosmed_m/infection_mask/\n",
      "start process ['study_0277', 'nii', 'gz']\n",
      "/zhangtong/dealed_dataset/mosmed_m/infection_mask/\n",
      "start process ['study_0274', 'nii', 'gz']\n",
      "/zhangtong/dealed_dataset/mosmed_m/infection_mask/\n",
      "start process ['study_0270', 'nii', 'gz']\n",
      "/zhangtong/dealed_dataset/mosmed_m/infection_mask/\n",
      "start process ['study_0290', 'nii', 'gz']\n",
      "/zhangtong/dealed_dataset/mosmed_m/infection_mask/\n",
      "start process ['study_0289', 'nii', 'gz']\n",
      "/zhangtong/dealed_dataset/mosmed_m/infection_mask/\n",
      "start process ['study_0285', 'nii', 'gz']\n",
      "/zhangtong/dealed_dataset/mosmed_m/infection_mask/\n",
      "start process ['study_0258', 'nii', 'gz']\n",
      "/zhangtong/dealed_dataset/mosmed_m/infection_mask/\n",
      "start process ['study_0288', 'nii', 'gz']\n",
      "/zhangtong/dealed_dataset/mosmed_m/infection_mask/\n",
      "start process ['study_0256', 'nii', 'gz']\n",
      "/zhangtong/dealed_dataset/mosmed_m/infection_mask/\n",
      "start process ['study_0298', 'nii', 'gz']\n",
      "/zhangtong/dealed_dataset/mosmed_m/infection_mask/\n",
      "start process ['study_0301', 'nii', 'gz']\n",
      "/zhangtong/dealed_dataset/mosmed_m/infection_mask/\n",
      "start process ['study_0260', 'nii', 'gz']\n",
      "/zhangtong/dealed_dataset/mosmed_m/infection_mask/\n",
      "start process ['study_0293', 'nii', 'gz']\n",
      "/zhangtong/dealed_dataset/mosmed_m/infection_mask/\n",
      "start process ['study_0302', 'nii', 'gz']\n",
      "/zhangtong/dealed_dataset/mosmed_m/infection_mask/\n",
      "start process ['study_0300', 'nii', 'gz']\n",
      "/zhangtong/dealed_dataset/mosmed_m/infection_mask/\n",
      "start process ['study_0286', 'nii', 'gz']\n",
      "/zhangtong/dealed_dataset/mosmed_m/infection_mask/\n",
      "start process ['study_0291', 'nii', 'gz']\n",
      "/zhangtong/dealed_dataset/mosmed_m/infection_mask/\n",
      "start process ['study_0261', 'nii', 'gz']\n",
      "/zhangtong/dealed_dataset/mosmed_m/infection_mask/\n",
      "start process ['study_0294', 'nii', 'gz']\n",
      "/zhangtong/dealed_dataset/mosmed_m/infection_mask/\n",
      "start process ['study_0268', 'nii', 'gz']\n",
      "/zhangtong/dealed_dataset/mosmed_m/infection_mask/\n",
      "start process ['study_0283', 'nii', 'gz']\n",
      "/zhangtong/dealed_dataset/mosmed_m/infection_mask/\n",
      "start process ['study_0299', 'nii', 'gz']\n",
      "/zhangtong/dealed_dataset/mosmed_m/infection_mask/\n",
      "start process ['study_0266', 'nii', 'gz']\n",
      "/zhangtong/dealed_dataset/mosmed_m/infection_mask/\n",
      "start process ['study_0259', 'nii', 'gz']\n",
      "/zhangtong/dealed_dataset/mosmed_m/infection_mask/\n",
      "start process ['study_0279', 'nii', 'gz']\n",
      "/zhangtong/dealed_dataset/mosmed_m/infection_mask/\n",
      "start process ['study_0276', 'nii', 'gz']\n",
      "/zhangtong/dealed_dataset/mosmed_m/infection_mask/\n",
      "start process ['study_0304', 'nii', 'gz']\n",
      "/zhangtong/dealed_dataset/mosmed_m/infection_mask/\n",
      "start process ['study_0296', 'nii', 'gz']\n",
      "/zhangtong/dealed_dataset/mosmed_m/infection_mask/\n",
      "start process ['study_0278', 'nii', 'gz']\n",
      "/zhangtong/dealed_dataset/mosmed_m/infection_mask/\n",
      "start process ['study_0292', 'nii', 'gz']\n",
      "/zhangtong/dealed_dataset/mosmed_m/infection_mask/\n",
      "start process ['study_0284', 'nii', 'gz']\n",
      "/zhangtong/dealed_dataset/mosmed_m/infection_mask/\n",
      "start process ['study_0287', 'nii', 'gz']\n",
      "/zhangtong/dealed_dataset/mosmed_m/infection_mask/\n",
      "start process ['study_0255', 'nii', 'gz']\n",
      "/zhangtong/dealed_dataset/mosmed_m/infection_mask/\n",
      "start process ['study_0269', 'nii', 'gz']\n"
     ]
    }
   ],
   "source": [
    "data_dict = {}\n",
    "image_save_path = \"/zhangtong/dealed_dataset/mosmed_m/ct_scans/\"\n",
    "infection_mask_path = \"/zhangtong/dealed_dataset/mosmed_m/infection_mask/\"\n",
    "\n",
    "for file in os.listdir(ct_path):\n",
    "    if file == \"ReadMe.txt\":\n",
    "        continue\n",
    "    filename = file.split(\".\")\n",
    "    ct = sitk.ReadImage(os.path.join(ct_path, file))\n",
    "    ct_array = sitk.GetArrayFromImage(ct)\n",
    "    ct_array = window_transform(ct_array * 1.0, 1500, -500)\n",
    "    print(infection_mask_path)\n",
    "    infection_mask = sitk.ReadImage(os.path.join(infection_path, \"{}_mask.nii.gz\".format(filename[0])))\n",
    "    infection_mask_arr = sitk.GetArrayFromImage(infection_mask)\n",
    "#     print(filename)\n",
    "    print(\"start process {}\".format(filename))\n",
    "    data_list = []\n",
    "    for i in range(ct_array.shape[0]):\n",
    "        if np.max(infection_mask_arr[i]) > 0:\n",
    "            image_path = os.path.join(image_save_path, \"{}_{}.npy\".format(filename[0], i))\n",
    "            infected_path = os.path.join(infection_mask_path, \"{}_{}.npy\".format(filename[0], i))\n",
    "#             print(image_path)\n",
    "#             print(infection_path)\n",
    "            np.save(image_path, ct_array[i])\n",
    "            np.save(infected_path, infection_mask_arr[i])\n",
    "            \n",
    "            data_list.append({\n",
    "                \"image_path\": image_path,\n",
    "                \"infection_mask\": infected_path,\n",
    "            })\n",
    "        else:\n",
    "            continue\n",
    "    data_dict[filename[0]] = data_list\n",
    "#     break"
   ]
  },
  {
   "cell_type": "code",
   "execution_count": 23,
   "metadata": {},
   "outputs": [],
   "source": [
    "import json\n",
    "with open(\"mosmed_data.json\", 'w', encoding='utf-8') as f:\n",
    "    f.write(json.dumps(data_dict))"
   ]
  },
  {
   "cell_type": "code",
   "execution_count": 24,
   "metadata": {},
   "outputs": [],
   "source": [
    "key_list = list(data_dict.keys())"
   ]
  },
  {
   "cell_type": "code",
   "execution_count": 25,
   "metadata": {},
   "outputs": [
    {
     "name": "stdout",
     "output_type": "stream",
     "text": [
      "['study_0271', 'study_0293', 'study_0268', 'study_0286', 'study_0280', 'study_0267', 'study_0275', 'study_0261', 'study_0265', 'study_0281', 'study_0282', 'study_0295', 'study_0270', 'study_0263', 'study_0296', 'study_0288', 'study_0257', 'study_0290', 'study_0255', 'study_0260', 'study_0283', 'study_0302', 'study_0276', 'study_0259', 'study_0300', 'study_0273', 'study_0256', 'study_0298', 'study_0277', 'study_0269', 'study_0272', 'study_0266', 'study_0289', 'study_0264', 'study_0278', 'study_0274']\n",
      "['study_0303', 'study_0279', 'study_0292', 'study_0294']\n",
      "['study_0299', 'study_0262', 'study_0285', 'study_0291', 'study_0258', 'study_0297', 'study_0301', 'study_0284', 'study_0304', 'study_0287']\n"
     ]
    }
   ],
   "source": [
    "from sklearn.model_selection import train_test_split\n",
    "train, test = train_test_split(key_list, test_size=0.2, random_state=101)\n",
    "train, valid = train_test_split(train, test_size=0.1, random_state=1)\n",
    "print(train)\n",
    "print(valid)\n",
    "print(test)"
   ]
  },
  {
   "cell_type": "code",
   "execution_count": 27,
   "metadata": {},
   "outputs": [],
   "source": [
    "train_data = []\n",
    "for item in train:\n",
    "    train_data += data_dict[item]\n",
    "with open(\"mosmed_train_m.json\", \"w\", encoding=\"utf-8\") as f:\n",
    "    f.write(json.dumps(train_data))"
   ]
  },
  {
   "cell_type": "code",
   "execution_count": 28,
   "metadata": {},
   "outputs": [],
   "source": [
    "valid_data = []\n",
    "for item in valid:\n",
    "    valid_data += data_dict[item]\n",
    "with open(\"mosmed_valid_m.json\", \"w\", encoding=\"utf-8\") as f:\n",
    "    f.write(json.dumps(valid_data))"
   ]
  },
  {
   "cell_type": "code",
   "execution_count": 29,
   "metadata": {},
   "outputs": [],
   "source": [
    "test_data = []\n",
    "for item in test:\n",
    "    test_data += data_dict[item]\n",
    "with open(\"mosmed_test_m.json\", \"w\", encoding=\"utf-8\") as f:\n",
    "    f.write(json.dumps(test_data))"
   ]
  }
 ],
 "metadata": {
  "kernelspec": {
   "display_name": "Python 3.7.2 ('torch-gpu')",
   "language": "python",
   "name": "python3"
  },
  "language_info": {
   "codemirror_mode": {
    "name": "ipython",
    "version": 3
   },
   "file_extension": ".py",
   "mimetype": "text/x-python",
   "name": "python",
   "nbconvert_exporter": "python",
   "pygments_lexer": "ipython3",
   "version": "3.7.2 (default, Feb 21 2019, 17:35:59) [MSC v.1915 64 bit (AMD64)]"
  },
  "vscode": {
   "interpreter": {
    "hash": "c93d98fb6ca6b5360b20408b51f343bec50007b16e8ab0054d851ee76e027322"
   }
  }
 },
 "nbformat": 4,
 "nbformat_minor": 4
}
