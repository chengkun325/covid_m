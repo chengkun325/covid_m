{
 "cells": [
  {
   "cell_type": "code",
   "execution_count": null,
   "metadata": {},
   "outputs": [],
   "source": [
    "\n",
    "idx_ct = 8\n",
    "idx_slice = 112\n",
    "ct_path = \"E:\\\\dataset\\\\ct_lesion_seg\\\\image\\\\{}\\\\{}.jpg\".format(str(idx_ct), str(idx_slice))\n",
    "mask_path = \"E:\\\\dataset\\\\ct_lesion_seg\\\\mask\\\\{}\\\\{}.jpg\".format(str(idx_ct), str(idx_slice))"
   ]
  }
 ],
 "metadata": {
  "language_info": {
   "name": "python"
  },
  "orig_nbformat": 4
 },
 "nbformat": 4,
 "nbformat_minor": 2
}
