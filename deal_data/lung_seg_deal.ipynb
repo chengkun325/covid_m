{
 "cells": [
  {
   "cell_type": "code",
   "execution_count": 1,
   "metadata": {},
   "outputs": [],
   "source": [
    "import os\n",
    "import numpy as np\n",
    "import pandas as pd\n",
    "import SimpleITK as sitk\n",
    "import matplotlib.pyplot as plt"
   ]
  },
  {
   "cell_type": "code",
   "execution_count": 6,
   "metadata": {},
   "outputs": [],
   "source": [
    "def plot_hists(images1, images2=None):\n",
    "    plt.hist(images1.ravel(), bins=100, density=True, color='b', alpha=1 if images2 is None else 0.5)\n",
    "    if images2 is not None:\n",
    "        plt.hist(images2.ravel(), bins=100, density=True, alpha=0.5, color='orange')\n",
    "    plt.show()"
   ]
  },
  {
   "cell_type": "code",
   "execution_count": 7,
   "metadata": {},
   "outputs": [],
   "source": [
    "def window_transform(ct_array, windowWidth, windowCenter, normal=False):\n",
    "\t\"\"\"\n",
    "    return: trucated image according to window center and window width\n",
    "    and normalized to [0,1]\n",
    "    \"\"\"\n",
    "\tminWindow = float(windowCenter) - 0.5*float(windowWidth)\n",
    "\t# print(minWindow)\n",
    "\tnewimg = (ct_array - minWindow) / float(windowWidth)\n",
    "\tnewimg[newimg < 0] = 0\n",
    "\tnewimg[newimg > 1] = 1\n",
    "\tif not normal:\n",
    "\t\tnewimg = (newimg * 255).astype('uint8')\n",
    "\treturn newimg"
   ]
  },
  {
   "cell_type": "markdown",
   "metadata": {},
   "source": [
    "coronacases的ct调整肺窗到[-1250, 250]\n",
    "参考该链接中说法进行的调整：https://gitee.com/junma11/COVID-19-CT-Seg-Benchmark"
   ]
  },
  {
   "cell_type": "code",
   "execution_count": null,
   "metadata": {},
   "outputs": [],
   "source": [
    "# 肺窗调整到[-1250, 250]\n",
    "\n",
    "data_path = \"E:/dataset/COVID-19-CT-Seg_20cases/\"\n",
    "ct_path = os.path.join(data_path, \"ct_scans\")\n",
    "lung_path = os.path.join(data_path, \"Lung_Mask\")"
   ]
  },
  {
   "cell_type": "code",
   "execution_count": 12,
   "metadata": {},
   "outputs": [
    {
     "name": "stdout",
     "output_type": "stream",
     "text": [
      "coronacases_001.nii.gz (301, 512, 512) 255 38\n",
      "[0 1 2]\n"
     ]
    }
   ],
   "source": [
    "data_dict = {}\n",
    "image_save_path = \"./data/ct_scans/\"\n",
    "l_r_mask_save_path = \"./data/r_l_lung/\"\n",
    "lung_mask_save_path = \"./data/lung_mask/\"\n",
    "\n",
    "for file in os.listdir(ct_path):\n",
    "    if file == \"ReadMe.txt\":\n",
    "        continue\n",
    "    filename = file.split(\".\")\n",
    "    ct = sitk.ReadImage(os.path.join(ct_path, file))\n",
    "    ct_array = sitk.GetArrayFromImage(ct)\n",
    "    if not file.startswith(\"ra\"):\n",
    "        ct_array = window_transform(ct_array * 1.0, 1500, -500)\n",
    "    \n",
    "    lung_mask = sitk.ReadImage(os.path.join(lung_path, file))\n",
    "    lung_mask_arr = sitk.GetArrayFromImage(lung_mask)\n",
    "    print(file, ct_array.shape, np.max(ct_array), np.min(ct_array))\n",
    "    \n",
    "    print(np.unique(lung_mask_arr))\n",
    "    \n",
    "    lung_mask_single = lung_mask_arr.copy()\n",
    "    lung_mask_single[lung_mask_single == 2] = 1\n",
    "    data_list = []\n",
    "    for i in range(ct_array.shape[0]):\n",
    "        if np.max(lung_mask_single[i]) > 0:\n",
    "            image_path = os.path.join(image_save_path, \"{}_{}.npy\".format(filename[0], i))\n",
    "            r_l_mask_path = os.path.join(l_r_mask_save_path, \"{}_{}.npy\".format(filename[0], i))\n",
    "            lung_mask_path = os.path.join(lung_mask_save_path, \"{}_{}.npy\".format(filename[0], i))\n",
    "            \n",
    "            np.save(image_path, ct_array[i])\n",
    "            np.save(r_l_mask_path, lung_mask[i])\n",
    "            np.save(lung_mask_path, lung_mask_single[i])\n",
    "            \n",
    "            data_list.append({\n",
    "                \"image_path\": image_path,\n",
    "                \"r_l_mask\": r_l_mask_path,\n",
    "                \"lung_mask\": lung_mask_path,\n",
    "            })\n",
    "        else:\n",
    "            continue\n",
    "    data_dict[filename[0]] = data_list\n",
    "    break"
   ]
  },
  {
   "cell_type": "code",
   "execution_count": 13,
   "metadata": {},
   "outputs": [],
   "source": [
    "import json\n",
    "with open(\"test.json\", 'w', encoding='utf-8') as f:\n",
    "    f.write(json.dumps(data_dict))"
   ]
  },
  {
   "cell_type": "code",
   "execution_count": 15,
   "metadata": {},
   "outputs": [],
   "source": [
    "key_list = list(data_dict.keys())"
   ]
  },
  {
   "cell_type": "code",
   "execution_count": 16,
   "metadata": {},
   "outputs": [
    {
     "data": {
      "text/plain": [
       "<matplotlib.image.AxesImage at 0x29a18927390>"
      ]
     },
     "execution_count": 16,
     "metadata": {},
     "output_type": "execute_result"
    },
    {
     "data": {
      "image/png": "[encoded data removed]",
      "text/plain": [
       "<Figure size 432x288 with 1 Axes>"
      ]
     },
     "metadata": {
      "needs_background": "light"
     },
     "output_type": "display_data"
    }
   ],
   "source": [
    "from sklearn.model_selection import train_test_split\n",
    "train, test = train_test_split(key_list, test_size=0.2, random_state=101)\n",
    "train, valid = train_test_split(train, test_size=0.1, random_state=1)\n",
    "print(train)\n",
    "print(valid)\n",
    "print(test)"
   ]
  },
  {
   "cell_type": "code",
   "execution_count": null,
   "metadata": {},
   "outputs": [],
   "source": [
    "train_data = []\n",
    "for item in train:\n",
    "    train_data += data_dict[item]\n",
    "with open(\"lung_seg_train.json\", \"w\", encoding=\"utf-8\") as f:\n",
    "    f.write(json.dumps(train_data))"
   ]
  },
  {
   "cell_type": "code",
   "execution_count": null,
   "metadata": {},
   "outputs": [],
   "source": [
    "valid_data = []\n",
    "for item in valid:\n",
    "    valid_data += data_dict[item]\n",
    "with open(\"lung_seg_valid.json\", \"w\", encoding=\"utf-8\") as f:\n",
    "    f.write(json.dumps(valid_data))"
   ]
  },
  {
   "cell_type": "code",
   "execution_count": null,
   "metadata": {},
   "outputs": [],
   "source": [
    "test_data = []\n",
    "for item in test:\n",
    "    test_data += data_dict[item]\n",
    "with open(\"lung_seg_test.json\", \"w\", encoding=\"utf-8\") as f:\n",
    "    f.write(json.dumps(test_data))"
   ]
  },
  {
   "cell_type": "code",
   "execution_count": null,
   "metadata": {},
   "outputs": [],
   "source": [
    "image = np.load(\"\")\n",
    "mask = np.load(\"\")\n",
    "if np.max(image) < 2.0:\n",
    "    image = image*255.0\n",
    "image = image[:, :, np.newaxis]\n",
    "mask = mask[:, :, np.newaxis]\n",
    "\n",
    "image = np.expand_dims(image, axis=0).astype(np.float32)\n",
    "mask = np.expand_dims(mask, axis=0).astype(np.int32)\n",
    "seq2 = iaa.Sequential([iaa.Resize({\"height\": 224, \"width\": 224},  interpolation='area')])\n",
    "image, mask = seq2(images=image, segmentation_maps=mask)\n",
    "image = image[0, :, :, 0]\n",
    "mask = mask[0, :, :, 0]\n",
    "image = Image.fromarray(image).convert('L')\n",
    "mask = Image.fromarray(mask).convert('L')"
   ]
  }
 ],
 "metadata": {
  "kernelspec": {
   "display_name": "Python 3",
   "language": "python",
   "name": "python3"
  },
  "language_info": {
   "codemirror_mode": {
    "name": "ipython",
    "version": 3
   },
   "file_extension": ".py",
   "mimetype": "text/x-python",
   "name": "python",
   "nbconvert_exporter": "python",
   "pygments_lexer": "ipython3",
   "version": "3.7.2"
  },
  "vscode": {
   "interpreter": {
    "hash": "c93d98fb6ca6b5360b20408b51f343bec50007b16e8ab0054d851ee76e027322"
   }
  }
 },
 "nbformat": 4,
 "nbformat_minor": 4
}
